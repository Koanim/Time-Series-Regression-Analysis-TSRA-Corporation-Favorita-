version https://git-lfs.github.com/spec/v1
oid sha256:5d87383ffd5cd9248b7e6e3472fc45b86edf6938e0e7378b622e09d1c607f74d
size 3304616
