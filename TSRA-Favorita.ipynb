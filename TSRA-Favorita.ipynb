version https://git-lfs.github.com/spec/v1
oid sha256:eceb1e2feb8c65a6f12e4ff7add084ea0ed55b74a782936cfa85f5a23da59e4e
size 1149708
