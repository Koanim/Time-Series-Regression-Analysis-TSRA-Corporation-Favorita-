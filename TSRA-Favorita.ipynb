version https://git-lfs.github.com/spec/v1
oid sha256:9ae23f7e7898a1dff138ebe2ff8f5ec4ea7a9d14474c6cef96954bb87ec748e4
size 73068
