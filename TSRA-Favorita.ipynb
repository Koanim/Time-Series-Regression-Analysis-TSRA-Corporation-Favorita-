version https://git-lfs.github.com/spec/v1
oid sha256:107ce2203e2dbda0463c922fe119caf58bd68b9de103d8c4c5756cfeb68db141
size 510603
