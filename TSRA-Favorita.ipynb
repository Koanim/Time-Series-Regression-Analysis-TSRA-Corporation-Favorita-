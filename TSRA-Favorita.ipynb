version https://git-lfs.github.com/spec/v1
oid sha256:ca0dcb0bb1e55f1ed1ba92f8fc589d0f698f8d813829369ce4b96ac85b5ea0d4
size 1097457
