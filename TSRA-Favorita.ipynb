version https://git-lfs.github.com/spec/v1
oid sha256:ae8817ef17259849f716a5f52f170636cd1bcbefec9ff8ec9a71d8af4700878d
size 3267435
